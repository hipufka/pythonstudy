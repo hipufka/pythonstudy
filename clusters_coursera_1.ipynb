{
  "nbformat": 4,
  "nbformat_minor": 0,
  "metadata": {
    "colab": {
      "name": "clusters_coursera_1.ipynb",
      "provenance": [],
      "collapsed_sections": [],
      "authorship_tag": "ABX9TyPo53rA8egASqzR4XBOiU5x",
      "include_colab_link": true
    },
    "kernelspec": {
      "name": "python3",
      "display_name": "Python 3"
    },
    "language_info": {
      "name": "python"
    }
  },
  "cells": [
    {
      "cell_type": "markdown",
      "metadata": {
        "id": "view-in-github",
        "colab_type": "text"
      },
      "source": [
        "<a href=\"https://colab.research.google.com/github/hipufka/pythonstudy/blob/master/clusters_coursera_1.ipynb\" target=\"_parent\"><img src=\"https://colab.research.google.com/assets/colab-badge.svg\" alt=\"Open In Colab\"/></a>"
      ]
    },
    {
      "cell_type": "code",
      "metadata": {
        "id": "QnbaNvclUrXW"
      },
      "source": [
        "import pandas as pd"
      ],
      "execution_count": 1,
      "outputs": []
    },
    {
      "cell_type": "code",
      "metadata": {
        "id": "ovhVuZx5VnRy"
      },
      "source": [
        "df = pd.read_csv('checkins.dat', sep='|', header=0, skipinitialspace=True)\n",
        "df.head()"
      ],
      "execution_count": null,
      "outputs": []
    },
    {
      "cell_type": "code",
      "metadata": {
        "id": "ZGXzHj2XZFy8"
      },
      "source": [
        "df = df[pd.notnull(df['latitude'])]\n",
        "df = df[pd.notnull(df['longitude'])]\n",
        "df.head()"
      ],
      "execution_count": null,
      "outputs": []
    },
    {
      "cell_type": "code",
      "metadata": {
        "id": "RWdmmRDIVn8S"
      },
      "source": [
        "df.info()"
      ],
      "execution_count": null,
      "outputs": []
    },
    {
      "cell_type": "code",
      "metadata": {
        "id": "qw2lrJtgZgWQ"
      },
      "source": [
        "df2=df.head(100000)"
      ],
      "execution_count": null,
      "outputs": []
    },
    {
      "cell_type": "markdown",
      "metadata": {
        "id": "pqmGhJAngitS"
      },
      "source": [
        "Координаты офисов"
      ]
    },
    {
      "cell_type": "code",
      "metadata": {
        "id": "TBASah2KdNcH"
      },
      "source": [
        "d = {'lat':[33.751277, 25.867736, 51.503016, 52.378894, 39.366487, -33.868457], \n",
        "     'lon': [-118.188740, -80.324116, -0.075479, 4.885084, 117.036146, 151.205134] }\n",
        "\n",
        "offices = pd.DataFrame(data=d)"
      ],
      "execution_count": null,
      "outputs": []
    },
    {
      "cell_type": "markdown",
      "metadata": {
        "id": "WzpRVV7XiNaN"
      },
      "source": [
        "Кластеризация"
      ]
    },
    {
      "cell_type": "code",
      "metadata": {
        "id": "GpvsGt6hecPK"
      },
      "source": [
        "from sklearn.cluster import MeanShift\n",
        "clustering = MeanShift(bandwidth=0.1).fit(df2)"
      ],
      "execution_count": null,
      "outputs": []
    },
    {
      "cell_type": "code",
      "metadata": {
        "id": "8d4VIpjdgD4f"
      },
      "source": [
        "df2[\"cluster\"]=clustering.labels_"
      ],
      "execution_count": null,
      "outputs": []
    },
    {
      "cell_type": "code",
      "metadata": {
        "id": "-is1qDTnizWZ"
      },
      "source": [
        "labels"
      ],
      "execution_count": null,
      "outputs": []
    },
    {
      "cell_type": "code",
      "metadata": {
        "id": "Z34M_w0HiRPx"
      },
      "source": [
        "df_cnt = df_no_outlier.drop(\"user_id\",1).groupby(\"birch\").mean()\n",
        "df_mean_birch"
      ],
      "execution_count": null,
      "outputs": []
    }
  ]
}